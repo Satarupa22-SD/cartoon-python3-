{
 "cells": [
  {
   "cell_type": "code",
   "execution_count": 1,
   "id": "7d0edd73",
   "metadata": {},
   "outputs": [
    {
     "name": "stdout",
     "output_type": "stream",
     "text": [
      "Requirement already satisfied: opencv-python in c:\\users\\lucy22\\anaconda3\\lib\\site-packages (4.5.3.56)\n",
      "Requirement already satisfied: numpy>=1.17.3 in c:\\users\\lucy22\\anaconda3\\lib\\site-packages (from opencv-python) (1.20.1)\n",
      "Note: you may need to restart the kernel to use updated packages.\n"
     ]
    }
   ],
   "source": [
    "pip install opencv-python"
   ]
  },
  {
   "cell_type": "code",
   "execution_count": 2,
   "id": "a4f6fd4a",
   "metadata": {},
   "outputs": [
    {
     "name": "stdout",
     "output_type": "stream",
     "text": [
      "Requirement already satisfied: numpy in c:\\users\\lucy22\\anaconda3\\lib\\site-packages (1.20.1)\n",
      "Note: you may need to restart the kernel to use updated packages.\n"
     ]
    }
   ],
   "source": [
    "pip install numpy"
   ]
  },
  {
   "cell_type": "code",
   "execution_count": 3,
   "id": "e5438018",
   "metadata": {},
   "outputs": [],
   "source": [
    "import cv2"
   ]
  },
  {
   "cell_type": "code",
   "execution_count": 4,
   "id": "ecdd631a",
   "metadata": {},
   "outputs": [],
   "source": [
    "import numpy as np\n",
    "from tkinter.filedialog import *"
   ]
  },
  {
   "cell_type": "code",
   "execution_count": 5,
   "id": "d548ccd5",
   "metadata": {},
   "outputs": [],
   "source": [
    "photo = askopenfilename()\n",
    "img = cv2.imread(photo)"
   ]
  },
  {
   "cell_type": "code",
   "execution_count": 6,
   "id": "87bc4e00",
   "metadata": {},
   "outputs": [],
   "source": [
    "grey = cv2.cvtColor(img, cv2.COLOR_BGR2GRAY)\n",
    "grey = cv2.medianBlur(grey, 5)\n",
    "edges = cv2.adaptiveThreshold(grey, 255, cv2.ADAPTIVE_THRESH_MEAN_C, cv2.THRESH_BINARY, 9, 9)"
   ]
  },
  {
   "cell_type": "code",
   "execution_count": 7,
   "id": "fb1d58de",
   "metadata": {},
   "outputs": [],
   "source": [
    "#cartoonize\n",
    "color = cv2.bilateralFilter(img, 9, 250, 250)\n",
    "cartoon = cv2.bitwise_and(color, color, mask = edges)\n"
   ]
  },
  {
   "cell_type": "code",
   "execution_count": 8,
   "id": "abb3c1ae",
   "metadata": {},
   "outputs": [],
   "source": [
    "cv2.imshow(\"Image\", img)\n",
    "cv2.imshow(\"Cartoon\", cartoon)"
   ]
  },
  {
   "cell_type": "code",
   "execution_count": null,
   "id": "b017cae1",
   "metadata": {},
   "outputs": [],
   "source": [
    "#save\n",
    "cv2.imwrite(\"cartoon.jpg\", cartoon)\n",
    "cv2.waitKey(0)\n",
    "cv2.destroyAllWindows()"
   ]
  },
  {
   "cell_type": "code",
   "execution_count": null,
   "id": "0c1e65aa",
   "metadata": {},
   "outputs": [],
   "source": []
  }
 ],
 "metadata": {
  "kernelspec": {
   "display_name": "Python 3",
   "language": "python",
   "name": "python3"
  },
  "language_info": {
   "codemirror_mode": {
    "name": "ipython",
    "version": 3
   },
   "file_extension": ".py",
   "mimetype": "text/x-python",
   "name": "python",
   "nbconvert_exporter": "python",
   "pygments_lexer": "ipython3",
   "version": "3.8.8"
  }
 },
 "nbformat": 4,
 "nbformat_minor": 5
}
